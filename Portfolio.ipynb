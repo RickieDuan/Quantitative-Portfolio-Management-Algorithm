{
 "cells": [
  {
   "cell_type": "code",
   "execution_count": 1,
   "id": "94b6a28d-3b42-45e7-bdb2-65bb87f1bbc7",
   "metadata": {},
   "outputs": [],
   "source": [
    "from IPython.display import display, Math, Latex\n",
    "\n",
    "import pandas as pd\n",
    "import numpy as np\n",
    "import numpy_financial as npf\n",
    "import yfinance as yf\n",
    "import matplotlib.pyplot as plt\n",
    "import datetime\n",
    "from datetime import datetime"
   ]
  },
  {
   "cell_type": "code",
   "execution_count": 2,
   "id": "8ce1115d-870e-4bdf-a63c-cbd1435b0f9d",
   "metadata": {},
   "outputs": [],
   "source": [
    "# Get all tickers from the stock file and convet to a list\n",
    "tickers = pd.read_csv('Tickers.csv', header=None)\n",
    "tickers.columns = ['stocks']\n",
    "data = tickers['stocks'].tolist()"
   ]
  },
  {
   "cell_type": "code",
   "execution_count": null,
   "id": "8fa76ee1-9cd7-4148-8994-761597259475",
   "metadata": {},
   "outputs": [],
   "source": [
    "# Filter and remain stocks from the list whose currency is USD and average of daily volume is large than 10000\n",
    "# in a previously empty list called 'filtered_stocks' and contain in the DataFrame called 'df'\n",
    "filtered_stocks = []\n",
    "for stock in data:\n",
    "    if yf.Ticker(stock).info.get('currency') == 'USD':\n",
    "        if yf.Ticker(stock).history(start='2023-01-01', end='2023-03-08').Volume.mean() > 10000:\n",
    "            filtered_stocks.append(stock)\n",
    "        else: continue\n",
    "    else: continue\n",
    "df = pd.DataFrame(filtered_stocks, columns = ['ticker'])\n",
    "df.head()"
   ]
  },
  {
   "cell_type": "code",
   "execution_count": null,
   "id": "0d724e8c-3d24-4588-b637-6fb6f1d81d3c",
   "metadata": {
    "scrolled": true,
    "tags": []
   },
   "outputs": [],
   "source": [
    "# Get all past closing prices in the curtain duration in the DataFrame called 'initial_portfolio_price'\n",
    "initial_portfolio_price = pd.DataFrame()\n",
    "for i in range(len(df)):\n",
    "    if i == 0:\n",
    "        initial_portfolio_price = pd.DataFrame(yf.Ticker(df.ticker[i]).history(start='2023-01-01', end='2023-03-08')['Close'])\n",
    "    else: \n",
    "        initial_portfolio_price[df.ticker[i]] = yf.Ticker(df.ticker[i]).history(start='2023-01-01', end='2023-03-08')['Close']\n",
    "initial_portfolio_price.rename(columns={'Close': df.ticker[0]}, inplace=True)\n",
    "initial_portfolio_price"
   ]
  },
  {
   "cell_type": "markdown",
   "id": "b5913f6d-3cbd-4ab5-885e-bb8673b9b31d",
   "metadata": {},
   "source": [
    "Some necessary data filtering and collection above for further calculation."
   ]
  },
  {
   "cell_type": "code",
   "execution_count": null,
   "id": "f391bfb3-034d-4a9f-b9c0-1d8d3565e98b",
   "metadata": {
    "scrolled": true,
    "tags": []
   },
   "outputs": [],
   "source": [
    "# Get the returns of each stock for eligible values (from the second to the end) in the DataFrame called \n",
    "# 'initial_portfolio_pct' where the index is Date\n",
    "initial_portfolio_pct = initial_portfolio_price.pct_change()[1::]\n",
    "initial_portfolio_pct"
   ]
  },
  {
   "cell_type": "code",
   "execution_count": null,
   "id": "36f3ab73-53ed-4712-bb2d-0249d57597fd",
   "metadata": {},
   "outputs": [],
   "source": [
    "# Get the standard deviation of each stock to be further proceeded in the DataFrame called \n",
    "# 'initial_portfolio_std' where the index is ticker\n",
    "initial_portfolio_std = initial_portfolio_pct.std()\n",
    "initial_portfolio_std = pd.DataFrame(initial_portfolio_std)\n",
    "initial_portfolio_std.columns = ['Standard Deviation']\n",
    "initial_portfolio_std.head()"
   ]
  },
  {
   "cell_type": "markdown",
   "id": "581f9792-d41d-413c-9b87-93ddcaee29d5",
   "metadata": {},
   "source": [
    "Given that the portfolio value is determined on a single day, long-term stock information may not be entirely suitable. Therefore, calculations are made based on the daily percentage change, as well as the standard deviation derived from it. This approach provides more precise data that is relevant to the specific day on which the portfolio value is decided, enhancing the accuracy of the analysis and risk assessment."
   ]
  },
  {
   "cell_type": "code",
   "execution_count": null,
   "id": "521106bd-41f7-4769-bcf8-7fafe73fa92d",
   "metadata": {
    "tags": []
   },
   "outputs": [],
   "source": [
    "# Get the ten stocks whose standard deviations are the top fifty in all of the filtered stocks in the DataFrame called 'biggest_std_stocks'\n",
    "biggest_std_stocks = initial_portfolio_std.nlargest(50, ['Standard Deviation'])\n",
    "biggest_std_stocks.head()"
   ]
  },
  {
   "cell_type": "markdown",
   "id": "2bb412e4-8646-45b5-95eb-b8bbeba2f5ed",
   "metadata": {},
   "source": [
    "The objective of this strategy is to constitute the riskiest portfolio possible, where each individual stock possesses the highest volatility. This can be determined by the standard deviation of each stock. As a statistical measure, standard deviation provides an understanding of the distance from the mean of a data set, or the dispersion of returns from the mean. When applied to a portfolio of stocks, standard deviation serves as an indicator of the volatility of stocks, bonds, and other financial instruments, based on the spread of returns over a period of time.\n",
    "\n",
    "The standard deviation of an investment is a measure of the volatility of returns. Consequently, the higher the standard deviation, the higher the volatility and risk associated with the investment. Financial securities or funds that are volatile typically display a higher standard deviation compared to stable financial securities or investment funds.\n",
    "\n",
    "A high standard deviation is generally seen as more risky since the performance of the investment can change dramatically in any direction at any given moment. The strategy, therefore, emphasizes the selection of only ten stocks. This is based on the principle that the greater the number of stocks in a portfolio, the less risky it is, a conclusion derived from the concept of diversification in previous analyses. Hence, limiting the number of stocks in the portfolio is a key element in enhancing the risk level."
   ]
  },
  {
   "cell_type": "code",
   "execution_count": null,
   "id": "fcc0a6c4-a291-4fef-a6b9-3c5409acce04",
   "metadata": {},
   "outputs": [],
   "source": [
    "# Convert the DataFrame 'biggest_std_stocks' into the list called 'biggest_std_stocks' \n",
    "# where stocks are what we will invest to achieve risky portfolio\n",
    "biggest_std_stocks = list(biggest_std_stocks.index.values)\n",
    "biggest_std_stocks"
   ]
  },
  {
   "cell_type": "code",
   "execution_count": null,
   "id": "4ad67b00-df2a-40af-8eb6-bdbc3e3b29a5",
   "metadata": {
    "scrolled": true,
    "tags": []
   },
   "outputs": [],
   "source": [
    "# Get the returns of each invested stocks for eligible values in the DataFrame called 'formered_portfolio_pct'\n",
    "formered_portfolio_pct = initial_portfolio_pct[biggest_std_stocks]\n",
    "formered_portfolio_pct"
   ]
  },
  {
   "cell_type": "code",
   "execution_count": null,
   "id": "c16ba02d-2479-41cf-bfaa-0a1d5c65a42d",
   "metadata": {},
   "outputs": [],
   "source": [
    "# Get every covariance between each two invested stocks and itself in the DataFrame called 'portfolio_variance'\n",
    "portfolio_variance = formered_portfolio_pct.corr()\n",
    "portfolio_variance.head()"
   ]
  },
  {
   "cell_type": "markdown",
   "id": "6da42273-ee06-40af-9c7e-90c867ef425c",
   "metadata": {},
   "source": [
    "As we can see from the matrix that the selected stocks are mostly positively related to each other, indicating that they increase or decrease mostly at the same time. Thus, it is the desired combination to get the highted absolute value of our portfolio."
   ]
  },
  {
   "cell_type": "markdown",
   "id": "c3aef738-f5a8-468a-ad27-e8d8d84f7ff2",
   "metadata": {},
   "source": [
    "To get to the optimal weighting of each stock, we will need to calculate it according to what gives us maximum expected returns. And we want to utilize the tool of efficient frontier which can show us the maximum return we can get for a set level of volatility, or conversely, the volatility that we need to accept for certain level of returns."
   ]
  },
  {
   "cell_type": "code",
   "execution_count": null,
   "id": "0ae85ab6-66fd-4f3e-be69-ce14cd2c97d3",
   "metadata": {},
   "outputs": [],
   "source": [
    "# Get the volatility of each invested stock, given by standard deviation, via multiplying by 79 \n",
    "# because there are totally 79 trading days over the period, in the DataFrame called 'volatility'\n",
    "volatility = formered_portfolio_pct.std().apply(lambda x: x*np.sqrt(79))\n",
    "volatility = pd.DataFrame(volatility)\n",
    "volatility.columns = ['Volatility']\n",
    "volatility.head()"
   ]
  },
  {
   "cell_type": "code",
   "execution_count": null,
   "id": "785c997f-14d8-49a3-a372-a06679b55fc2",
   "metadata": {},
   "outputs": [],
   "source": [
    "# Get the expect returns of each invested stock in the DataFrame called 'expected_return'\n",
    "expected_return = formered_portfolio_pct.mean()\n",
    "expected_return = pd.DataFrame(expected_return)\n",
    "expected_return.columns = ['Expected Return']"
   ]
  },
  {
   "cell_type": "code",
   "execution_count": null,
   "id": "41d26565-7821-4b2e-be33-c05f35ca78c6",
   "metadata": {},
   "outputs": [],
   "source": [
    "# Creat a DataFrame called 'assets' for visualising expect returns and volatility of invested stocks\n",
    "assets = pd.concat([expected_return, volatility], axis=1)\n",
    "assets"
   ]
  },
  {
   "cell_type": "code",
   "execution_count": null,
   "id": "e35a23d3-4613-4c84-9d06-db6cd141bf51",
   "metadata": {},
   "outputs": [],
   "source": [
    "p_ret = [] # Define an empty array for portfolio returns\n",
    "p_vol = [] # Define an empty array for portfolio volatility\n",
    "p_weights = [] # Define an empty array for asset weights\n",
    "\n",
    "num_assets = len(formered_portfolio_pct.columns)\n",
    "num_portfolios = 50000"
   ]
  },
  {
   "cell_type": "code",
   "execution_count": null,
   "id": "2aa57cb9-31af-4475-8f96-c0e6f411cd49",
   "metadata": {},
   "outputs": [],
   "source": [
    "# Run a loop for 50000 times to consider different weights for assets and  \n",
    "# calculates the return and volatility of that particular portfolio combination\n",
    "for portfolio in range(num_portfolios):\n",
    "    weights = np.random.random(num_assets) # Get random numbers for weights\n",
    "    weights = weights/np.sum(weights) # Guarantee the sum of weights must be 1\n",
    "    p_weights.append(weights)\n",
    "    returns = np.dot(weights, expected_return) # Returns are the product of individual expected returns of asset and its weights \n",
    "    p_ret.append(returns)\n",
    "    var = portfolio_variance.mul(weights, axis=0).mul(weights, axis=1).sum().sum() # Portfolio Variance\n",
    "    sd = np.sqrt(var) # Daily standard deviation\n",
    "    period_sd = sd*np.sqrt(79) # Period standard deviation = volatility\n",
    "    p_vol.append(period_sd)"
   ]
  },
  {
   "cell_type": "code",
   "execution_count": null,
   "id": "66e05d8c-896d-4b51-b421-0ea40e831abf",
   "metadata": {},
   "outputs": [],
   "source": [
    "# Append the weight of each stock to  Returns and Volatility \n",
    "data = {'Returns':p_ret, 'Volatility':p_vol}\n",
    "for counter, symbol in enumerate(formered_portfolio_pct.columns.tolist()):\n",
    "    #print(counter, symbol)\n",
    "    data[symbol+' weight'] = [w[counter] for w in p_weights]"
   ]
  },
  {
   "cell_type": "code",
   "execution_count": null,
   "id": "f727a2c8-8ed4-45a7-a797-5054af57d5eb",
   "metadata": {},
   "outputs": [],
   "source": [
    "# Create a DataFrame called 'portfolios' that displays returns and volatility of each group of weighting invested stocks\n",
    "portfolios = pd.DataFrame(data)\n",
    "portfolios.head()"
   ]
  },
  {
   "cell_type": "code",
   "execution_count": null,
   "id": "f050192f-4a1c-4999-a780-c0a7ce210abb",
   "metadata": {},
   "outputs": [],
   "source": [
    "# Filter the weighing that is less than (100/(2n))% or greater than 35%\n",
    "for i in range(2, num_assets+2):\n",
    "    portfolios = portfolios[(portfolios.iloc[:, i] >= 0.05) & (portfolios.iloc[:, i] <= 0.35)]\n",
    "    i += 1\n",
    "portfolios"
   ]
  },
  {
   "cell_type": "code",
   "execution_count": null,
   "id": "e841f319-7e23-4cc0-86c4-ee51d3294b96",
   "metadata": {},
   "outputs": [],
   "source": [
    "# Plot the graph with x-axix 'Volatility', y-axix 'Returns' to visualize each portfolio\n",
    "portfolios.plot.scatter(x='Volatility', y='Returns', marker='o', s=10, alpha=0.3, grid=True, figsize=[10,10])"
   ]
  },
  {
   "cell_type": "code",
   "execution_count": null,
   "id": "093d303f-5112-4e5f-ad2a-833a215f925a",
   "metadata": {
    "tags": []
   },
   "outputs": [],
   "source": [
    "# Reset the index\n",
    "portfolios.reset_index(inplace=True)"
   ]
  },
  {
   "cell_type": "code",
   "execution_count": null,
   "id": "a3bb471c-944c-4af0-83e3-b5a27b3cfeb3",
   "metadata": {},
   "outputs": [],
   "source": [
    "# Drop the previous index column\n",
    "portfolios.pop('index')"
   ]
  },
  {
   "cell_type": "code",
   "execution_count": null,
   "id": "18ed0ba6-daf3-4620-8a0b-2c71ff2d49e4",
   "metadata": {},
   "outputs": [],
   "source": [
    "# Display the filtered portfolio weighing \n",
    "portfolios"
   ]
  },
  {
   "cell_type": "markdown",
   "id": "7c9f48da-f765-454d-b27d-389a906cea06",
   "metadata": {},
   "source": [
    "Each point on the line (left edge) represents an optimal portfolio of stocks that maximises the returns for any given level of risk. The point in the interior are sub-optimal for a given risk level. For every interior point, there is another that offers higher returns for the same risk. Since we are looking for the riskiest portfolio, we will choose the point where volatity and return are both maximum."
   ]
  },
  {
   "cell_type": "code",
   "execution_count": null,
   "id": "41e7eab0-2b72-450c-aa01-177586383d67",
   "metadata": {},
   "outputs": [],
   "source": [
    "# Find the portfolio with the biggest volatility and print that particular weightings of each invested stock\n",
    "max_vol_port = portfolios.iloc[portfolios['Volatility'].idxmax()]\n",
    "max_vol_port"
   ]
  },
  {
   "cell_type": "code",
   "execution_count": null,
   "id": "c550dd78-febc-4dbe-87fe-5097b66f3bbf",
   "metadata": {},
   "outputs": [],
   "source": [
    "# plotting the maximum volatility portfolio\n",
    "plt.subplots(figsize=[10,10])\n",
    "plt.scatter(portfolios['Volatility'], portfolios['Returns'],marker='o', s=10, alpha=0.3)\n",
    "plt.scatter(max_vol_port[1], max_vol_port[0], color='r', marker='*', s=500)\n",
    "plt.xlabel('Volatility')\n",
    "plt.ylabel('Returns')"
   ]
  },
  {
   "cell_type": "code",
   "execution_count": null,
   "id": "b1ddc323-5521-4e9e-b7ae-c161a5c4c752",
   "metadata": {},
   "outputs": [],
   "source": [
    "# Extract each weight of invested stock from the above portfolio in the DataFrame called 'max_port_weight'\n",
    "max_port_weight = pd.DataFrame(max_vol_port)\n",
    "max_port_weight.drop(['Returns','Volatility'], axis=0, inplace=True)\n",
    "max_port_weight.index = biggest_std_stocks\n",
    "max_port_weight.columns = ['Weight']\n",
    "max_port_weight"
   ]
  },
  {
   "cell_type": "code",
   "execution_count": null,
   "id": "3f9318d8-0f0c-4ffd-a271-3eac9504fd26",
   "metadata": {},
   "outputs": [],
   "source": [
    "# Extract each weight of invested stock from the above portfolio in the DataFrame called 'max_port_weight'\n",
    "max_port_weight = pd.DataFrame(max_vol_port)\n",
    "max_port_weight.drop(['Returns','Volatility'], axis=0, inplace=True)\n",
    "max_port_weight.index = biggest_std_stocks\n",
    "max_port_weight.columns = ['Weight']\n",
    "max_port_weight.head()"
   ]
  },
  {
   "cell_type": "code",
   "execution_count": null,
   "id": "48e837e0-fac9-44b6-b0ac-747fe06d933e",
   "metadata": {},
   "outputs": [],
   "source": [
    "# Start creating the DataFrame 'FinalPortfolio' from the beginning 'Ticker' with index from 1 to 10\n",
    "FinalPortfolio = pd.DataFrame(biggest_std_stocks)\n",
    "FinalPortfolio.columns = ['Ticker']\n",
    "FinalPortfolio.index = FinalPortfolio.index + 1\n",
    "FinalPortfolio"
   ]
  },
  {
   "cell_type": "code",
   "execution_count": null,
   "id": "5a3d90da-83e0-448c-94b8-43a2ee252494",
   "metadata": {},
   "outputs": [],
   "source": [
    "# Add a new column 'Price' to the DataFrame 'FinalPortfolio' which contains the closing price on 2021.11.26\n",
    "FinalPortfolio = FinalPortfolio.append(pd.DataFrame({'Price' : []}))\n",
    "for i in range(1, len(FinalPortfolio)+1):\n",
    "    FinalPortfolio['Price'][i] = yf.Ticker(biggest_std_stocks[i - 1]).history('2021-11-26').Close[0]\n",
    "    i += 1\n",
    "FinalPortfolio"
   ]
  },
  {
   "cell_type": "code",
   "execution_count": null,
   "id": "d01b47b6-39e7-4a45-b96a-d26a582b0a33",
   "metadata": {},
   "outputs": [],
   "source": [
    "# Add new columns 'Investment' and 'Shares' based on the DataFrame 'max_port_weight' to create a new DataFrame called \n",
    "# 'investment' which calculates corresponding principal invested on ech stock based on weight and calculates the \n",
    "# shares bought based on the closing price on 2021.11.26\n",
    "investment = max_port_weight.append(pd.DataFrame({'Investment' : []}))\n",
    "investment = investment.append(pd.DataFrame({'Shares' : []}))\n",
    "investment = investment.copy()\n",
    "i = 0\n",
    "for i in range(0,len(investment)):\n",
    "    investment['Investment'][i] = 100000 * investment['Weight'][i]\n",
    "    investment['Shares'][i] = investment['Investment'][i] / FinalPortfolio['Price'][i + 1]\n",
    "    i += 1\n",
    "investment"
   ]
  },
  {
   "cell_type": "code",
   "execution_count": null,
   "id": "b7109f87-feff-4dee-b9c7-1b778fed46f2",
   "metadata": {},
   "outputs": [],
   "source": [
    "# Add a new column 'Shares' to the DataFrame 'FinalPortfolio' which contains data of shares bought that is extracted from the DataFrame 'investment'\n",
    "investment.reset_index(inplace=True)\n",
    "investment.index = investment.index + 1\n",
    "FinalPortfolio['Shares'] = investment[['Shares']]\n",
    "FinalPortfolio.head()"
   ]
  },
  {
   "cell_type": "code",
   "execution_count": null,
   "id": "041c118f-36b3-4d70-a5a6-c372c475d092",
   "metadata": {},
   "outputs": [],
   "source": [
    "# Add a new column 'Value' to the DataFrame 'FinalPortfolio' which contains the value of each invested stock by multiplying closing price and share bought\n",
    "FinalPortfolio['Value'] = FinalPortfolio['Price'] * FinalPortfolio['Shares']\n",
    "FinalPortfolio.head()"
   ]
  },
  {
   "cell_type": "code",
   "execution_count": null,
   "id": "594b422b-4c0c-4131-8843-756183da508a",
   "metadata": {},
   "outputs": [],
   "source": [
    "# Add a new column 'Weight' to the DataFrame 'FinalPortfolio' which contains the weight of each invested stock that is extracted from the DataFrame called 'max_port_weight'\n",
    "max_port_weight.reset_index(inplace=True)\n",
    "max_port_weight.index = max_port_weight.index + 1\n",
    "FinalPortfolio['Weight'] = max_port_weight[['Weight']]\n",
    "FinalPortfolio.head()"
   ]
  },
  {
   "cell_type": "code",
   "execution_count": null,
   "id": "0b6f581c-de54-4a86-ae78-a2c6c14ceabe",
   "metadata": {},
   "outputs": [],
   "source": [
    "# Show that the sum of each value of invested stock is totally 100,000 (roughly)\n",
    "FinalPortfolio['Value'].sum()"
   ]
  },
  {
   "cell_type": "code",
   "execution_count": null,
   "id": "66e66e1d-73e9-43aa-ad48-5508560a2d9e",
   "metadata": {},
   "outputs": [],
   "source": [
    "# Show that the sum of each weighr of invested stock is totally 1 (roughly)\n",
    "FinalPortfolio['Weight'].sum()"
   ]
  },
  {
   "cell_type": "code",
   "execution_count": null,
   "id": "8391c4b7-07db-471c-b990-45a8b5609f3a",
   "metadata": {},
   "outputs": [],
   "source": [
    "# Ultimately output the DataFrame 'Stocks' merely contains the info of ticker and share of each invested stock and output into a csv file called 'Stocks_Group_21.csv'\n",
    "Stocks = FinalPortfolio[['Ticker', 'Shares']]\n",
    "Stocks.to_csv('Stocks_Group_21.csv')"
   ]
  },
  {
   "cell_type": "markdown",
   "id": "7ac1a6a9-9023-4586-8358-dbb1a70dacc1",
   "metadata": {},
   "source": [
    "\n",
    "In the process of determining the weight of each stock in the investment, a loop is run 1000 times to ascertain the expected returns and volatility of each portfolio. This approach takes into account the expected return, standard deviation of each stock, as well as the covariance between each pair of stocks, which is expressed as volatility. By doing so, it becomes possible to identify the portfolio with the highest volatility and expected return, which is then selected as the final portfolio.\n",
    "\n",
    "The integration of expected return, standard deviation, and covariance of stocks into this process is based on the principles of Markowitz Portfolio Theory. Both the Mean and Variance aspects are considered to carry out a corresponding analysis of each weight of stocks. The ultimate goal is to find the riskiest and most profitable portfolio. As illustrated in the graph, the portfolio may form an ellipse-like shape, showcasing a positive correlation between volatility and returns. The output, therefore, is the point that represents the riskiest but most profitable portfolio.\n",
    "\n",
    "Following this, the closing price of the stocks is obtained from finance data providers like Yahoo Finance. With this data, the principal invested at this particular weight of each stock is calculated along with the following statistics. This approach ensures the determination of a high-risk, high-reward portfolio based on comprehensive analysis and financial principles."
   ]
  }
 ],
 "metadata": {
  "kernelspec": {
   "display_name": "Python 3",
   "language": "python",
   "name": "python3"
  },
  "language_info": {
   "codemirror_mode": {
    "name": "ipython",
    "version": 3
   },
   "file_extension": ".py",
   "mimetype": "text/x-python",
   "name": "python",
   "nbconvert_exporter": "python",
   "pygments_lexer": "ipython3",
   "version": "3.8.8"
  }
 },
 "nbformat": 4,
 "nbformat_minor": 5
}
